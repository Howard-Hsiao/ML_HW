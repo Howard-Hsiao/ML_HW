{
 "cells": [
  {
   "cell_type": "code",
   "execution_count": 1,
   "metadata": {},
   "outputs": [
    {
     "name": "stdout",
     "output_type": "stream",
     "text": [
      "env: KERAS_BACKEND=tensorflow\n"
     ]
    }
   ],
   "source": [
    "%matplotlib inline\n",
    "%env KERAS_BACKEND=tensorflow\n",
    "\n",
    "import numpy as np\n",
    "import matplotlib.pyplot as plt"
   ]
  },
  {
   "cell_type": "code",
   "execution_count": 2,
   "metadata": {},
   "outputs": [
    {
     "name": "stderr",
     "output_type": "stream",
     "text": [
      "Using TensorFlow backend.\n"
     ]
    }
   ],
   "source": [
    "from keras.datasets import mnist"
   ]
  },
  {
   "cell_type": "code",
   "execution_count": 3,
   "metadata": {},
   "outputs": [],
   "source": [
    "(x_train, y_train), (x_test, y_test) = mnist.load_data()"
   ]
  },
  {
   "cell_type": "code",
   "execution_count": 4,
   "metadata": {},
   "outputs": [],
   "source": [
    "x_train = x_train.reshape(len(x_train), 784)\n",
    "x_test = x_test.reshape(len(x_test), 784)"
   ]
  },
  {
   "cell_type": "code",
   "execution_count": 5,
   "metadata": {},
   "outputs": [],
   "source": [
    "from keras.utils import np_utils"
   ]
  },
  {
   "cell_type": "code",
   "execution_count": 6,
   "metadata": {},
   "outputs": [],
   "source": [
    "y_train = np_utils.to_categorical(y_train, 10)\n",
    "y_test = np_utils.to_categorical(y_test, 10)"
   ]
  },
  {
   "cell_type": "code",
   "execution_count": 7,
   "metadata": {},
   "outputs": [],
   "source": [
    "from keras.models import Sequential\n",
    "from keras.layers import Dense, Activation\n",
    "from keras.optimizers import SGD"
   ]
  },
  {
   "cell_type": "code",
   "execution_count": 10,
   "metadata": {},
   "outputs": [
    {
     "name": "stdout",
     "output_type": "stream",
     "text": [
      "_________________________________________________________________\n",
      "Layer (type)                 Output Shape              Param #   \n",
      "=================================================================\n",
      "dense_7 (Dense)              (None, 8)                 6280      \n",
      "_________________________________________________________________\n",
      "activation_7 (Activation)    (None, 8)                 0         \n",
      "_________________________________________________________________\n",
      "dense_8 (Dense)              (None, 20)                180       \n",
      "_________________________________________________________________\n",
      "activation_8 (Activation)    (None, 20)                0         \n",
      "_________________________________________________________________\n",
      "dense_9 (Dense)              (None, 50)                1050      \n",
      "_________________________________________________________________\n",
      "activation_9 (Activation)    (None, 50)                0         \n",
      "_________________________________________________________________\n",
      "dense_10 (Dense)             (None, 125)               6375      \n",
      "_________________________________________________________________\n",
      "activation_10 (Activation)   (None, 125)               0         \n",
      "_________________________________________________________________\n",
      "dense_11 (Dense)             (None, 312)               39312     \n",
      "_________________________________________________________________\n",
      "activation_11 (Activation)   (None, 312)               0         \n",
      "_________________________________________________________________\n",
      "dense_12 (Dense)             (None, 781)               244453    \n",
      "_________________________________________________________________\n",
      "activation_12 (Activation)   (None, 781)               0         \n",
      "_________________________________________________________________\n",
      "dense_13 (Dense)             (None, 10)                7820      \n",
      "_________________________________________________________________\n",
      "activation_13 (Activation)   (None, 10)                0         \n",
      "=================================================================\n",
      "Total params: 305,470\n",
      "Trainable params: 305,470\n",
      "Non-trainable params: 0\n",
      "_________________________________________________________________\n"
     ]
    }
   ],
   "source": [
    "model = Sequential()\n",
    "model.add(Dense(8, input_dim = 784))\n",
    "model.add(Activation(\"relu\"))\n",
    "\n",
    "for i in range(1, 6):\n",
    "    nodeNum = int(8 * 2.5 ** i)\n",
    "    model.add(Dense(nodeNum))\n",
    "    model.add(Activation(\"relu\"))\n",
    "    \n",
    "model.add(Dense(10))\n",
    "model.add(Activation(\"softmax\"))\n",
    "\n",
    "model.compile(loss = \"mse\", optimizer=SGD(lr = 0.0025), metrics = ['accuracy'])\n",
    "model.summary()"
   ]
  },
  {
   "cell_type": "code",
   "execution_count": 11,
   "metadata": {},
   "outputs": [
    {
     "name": "stdout",
     "output_type": "stream",
     "text": [
      "Epoch 1/30\n",
      "60000/60000 [==============================] - 10s 171us/step - loss: 0.0813 - acc: 0.3185\n",
      "Epoch 2/30\n",
      "60000/60000 [==============================] - 10s 165us/step - loss: 0.0545 - acc: 0.5788\n",
      "Epoch 3/30\n",
      "60000/60000 [==============================] - 10s 165us/step - loss: 0.0437 - acc: 0.6728\n",
      "Epoch 4/30\n",
      "60000/60000 [==============================] - 10s 165us/step - loss: 0.0363 - acc: 0.7397\n",
      "Epoch 5/30\n",
      "60000/60000 [==============================] - 10s 167us/step - loss: 0.0305 - acc: 0.7870\n",
      "Epoch 6/30\n",
      "60000/60000 [==============================] - 10s 166us/step - loss: 0.0269 - acc: 0.8145\n",
      "Epoch 7/30\n",
      "60000/60000 [==============================] - 10s 168us/step - loss: 0.0246 - acc: 0.8326\n",
      "Epoch 8/30\n",
      "60000/60000 [==============================] - 10s 168us/step - loss: 0.0229 - acc: 0.8452\n",
      "Epoch 9/30\n",
      "60000/60000 [==============================] - 11s 184us/step - loss: 0.0217 - acc: 0.8543\n",
      "Epoch 10/30\n",
      "60000/60000 [==============================] - 11s 178us/step - loss: 0.0206 - acc: 0.8627\n",
      "Epoch 11/30\n",
      "60000/60000 [==============================] - 10s 171us/step - loss: 0.0198 - acc: 0.8676\n",
      "Epoch 12/30\n",
      "60000/60000 [==============================] - 10s 164us/step - loss: 0.0190 - acc: 0.8742\n",
      "Epoch 13/30\n",
      "60000/60000 [==============================] - 9s 149us/step - loss: 0.0184 - acc: 0.8784\n",
      "Epoch 14/30\n",
      "60000/60000 [==============================] - 9s 148us/step - loss: 0.0178 - acc: 0.8825\n",
      "Epoch 15/30\n",
      "60000/60000 [==============================] - 10s 160us/step - loss: 0.0174 - acc: 0.8857\n",
      "Epoch 16/30\n",
      "60000/60000 [==============================] - 10s 174us/step - loss: 0.0168 - acc: 0.8892\n",
      "Epoch 17/30\n",
      "60000/60000 [==============================] - 9s 150us/step - loss: 0.0164 - acc: 0.8920\n",
      "Epoch 18/30\n",
      "60000/60000 [==============================] - 9s 149us/step - loss: 0.0161 - acc: 0.8950\n",
      "Epoch 19/30\n",
      "60000/60000 [==============================] - 9s 153us/step - loss: 0.0157 - acc: 0.8969\n",
      "Epoch 20/30\n",
      "60000/60000 [==============================] - 9s 152us/step - loss: 0.0154 - acc: 0.8994\n",
      "Epoch 21/30\n",
      "60000/60000 [==============================] - 9s 148us/step - loss: 0.0152 - acc: 0.9014\n",
      "Epoch 22/30\n",
      "60000/60000 [==============================] - 9s 155us/step - loss: 0.0149 - acc: 0.9024\n",
      "Epoch 23/30\n",
      "60000/60000 [==============================] - 9s 150us/step - loss: 0.0146 - acc: 0.9046\n",
      "Epoch 24/30\n",
      "60000/60000 [==============================] - 9s 149us/step - loss: 0.0143 - acc: 0.9068\n",
      "Epoch 25/30\n",
      "60000/60000 [==============================] - 9s 150us/step - loss: 0.0141 - acc: 0.9085\n",
      "Epoch 26/30\n",
      "60000/60000 [==============================] - 9s 150us/step - loss: 0.0139 - acc: 0.9101\n",
      "Epoch 27/30\n",
      "60000/60000 [==============================] - 9s 153us/step - loss: 0.0136 - acc: 0.9120\n",
      "Epoch 28/30\n",
      "60000/60000 [==============================] - 9s 154us/step - loss: 0.0134 - acc: 0.9139\n",
      "Epoch 29/30\n",
      "60000/60000 [==============================] - 9s 156us/step - loss: 0.0132 - acc: 0.9140\n",
      "Epoch 30/30\n",
      "60000/60000 [==============================] - 9s 158us/step - loss: 0.0130 - acc: 0.9152\n"
     ]
    },
    {
     "data": {
      "text/plain": [
       "<keras.callbacks.History at 0x2b97e4515f8>"
      ]
     },
     "execution_count": 11,
     "metadata": {},
     "output_type": "execute_result"
    }
   ],
   "source": [
    "model.fit(x_train, y_train, batch_size=30, epochs = 30)"
   ]
  },
  {
   "cell_type": "code",
   "execution_count": 12,
   "metadata": {},
   "outputs": [],
   "source": [
    "predict = model.predict_classes(x_test)"
   ]
  },
  {
   "cell_type": "code",
   "execution_count": 17,
   "metadata": {},
   "outputs": [],
   "source": [
    "from ipywidgets import interact\n",
    "def showResult(num):\n",
    "    plt.imshow(x_test[num].reshape(28, 28), cmap=\"Greys\")\n",
    "    print(\"神經網路判斷為:\", predict[num])"
   ]
  },
  {
   "cell_type": "code",
   "execution_count": 19,
   "metadata": {},
   "outputs": [
    {
     "data": {
      "application/vnd.jupyter.widget-view+json": {
       "model_id": "7eefcba5d3564993a34f877f6945032b",
       "version_major": 2,
       "version_minor": 0
      },
      "text/plain": [
       "interactive(children=(IntSlider(value=4999, description='num', max=9999), Output()), _dom_classes=('widget-int…"
      ]
     },
     "metadata": {},
     "output_type": "display_data"
    },
    {
     "data": {
      "text/plain": [
       "<function __main__.showResult(num)>"
      ]
     },
     "execution_count": 19,
     "metadata": {},
     "output_type": "execute_result"
    }
   ],
   "source": [
    "interact(showResult, num=(0, 9999))"
   ]
  },
  {
   "cell_type": "code",
   "execution_count": null,
   "metadata": {},
   "outputs": [],
   "source": []
  }
 ],
 "metadata": {
  "kernelspec": {
   "display_name": "Python 3",
   "language": "python",
   "name": "python3"
  },
  "language_info": {
   "codemirror_mode": {
    "name": "ipython",
    "version": 3
   },
   "file_extension": ".py",
   "mimetype": "text/x-python",
   "name": "python",
   "nbconvert_exporter": "python",
   "pygments_lexer": "ipython3",
   "version": "3.7.1"
  }
 },
 "nbformat": 4,
 "nbformat_minor": 2
}
