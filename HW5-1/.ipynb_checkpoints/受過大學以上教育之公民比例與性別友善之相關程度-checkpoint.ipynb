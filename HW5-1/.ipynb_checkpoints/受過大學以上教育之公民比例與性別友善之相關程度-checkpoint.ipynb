{
 "cells": [
  {
   "cell_type": "markdown",
   "metadata": {},
   "source": [
    "### 以線性回歸分析一縣市對\"以民法保障同性婚姻\"接受程度，與該縣市的受大學以上教育程度是否相關\n",
    "資料來源:\n",
    "公投14案(https://data.gov.tw/dataset/95883)\n",
    "各縣市十五歲以上人口數按教育程度(7類)及性別(https://gis.ris.gov.tw/dashboard.html?key=B04)"
   ]
  },
  {
   "cell_type": "code",
   "execution_count": 155,
   "metadata": {},
   "outputs": [],
   "source": [
    "#import necessary library\n",
    "%matplotlib inline\n",
    "import numpy as np\n",
    "import pandas as pd\n",
    "import matplotlib.pyplot as plt\n",
    "from ipywidgets import interact"
   ]
  },
  {
   "cell_type": "code",
   "execution_count": 156,
   "metadata": {},
   "outputs": [],
   "source": [
    "#讀入全縣市15歲以上人口數資料\n",
    "totalPeople = pd.read_csv(\"totalPeople.csv\", converters=\n",
    "                          {'總計' : lambda x : x.replace(',', '')} )\n",
    "totalPeople.set_index([\"區域別\"], inplace=True)\n",
    "totalPeople.rename(columns={'總計':'15歲以上人數'}, inplace=True)\n",
    "totalPeople = totalPeople.applymap(lambda x : int(x))\n",
    "\n",
    "#讀入全縣市15歲以上大學以上學歷者人數資料\n",
    "eduPeople = pd.read_csv(\"eduPeople.csv\", converters=\n",
    "                        {\"博士畢業總計\":lambda x : x.replace(',', ''),\n",
    "                         \"碩士畢業總計\":lambda x : x.replace(',', ''),\n",
    "                         \"大學畢業總計\":lambda x : x.replace(',', '')})\n",
    "eduPeople.set_index([\"區域別\"], inplace = True)\n",
    "eduPeople = eduPeople.applymap(lambda x : int(x))\n",
    "\n",
    "#將兩張表整合\n",
    "eduPeople['大學以上學歷且15歲以上人數'] = eduPeople[\"博士畢業總計\"] + eduPeople['碩士畢業總計'] + eduPeople['大學畢業總計']\n",
    "peopleInfo = pd.concat([totalPeople, eduPeople], axis=1)\n",
    "peopleInfo = peopleInfo.drop(\"總計\")"
   ]
  },
  {
   "cell_type": "markdown",
   "metadata": {},
   "source": [
    "新增一行用來表示擁有大學以上學歷者占該縣市總人口數比例"
   ]
  },
  {
   "cell_type": "code",
   "execution_count": 157,
   "metadata": {},
   "outputs": [],
   "source": [
    "peopleInfo[\"受教程度\"] = peopleInfo[\"大學以上學歷且15歲以上人數\"]/peopleInfo[\"15歲以上人數\"]"
   ]
  },
  {
   "cell_type": "code",
   "execution_count": 158,
   "metadata": {},
   "outputs": [
    {
     "name": "stdout",
     "output_type": "stream",
     "text": [
      "     15歲以上人數  博士畢業總計  碩士畢業總計  大學畢業總計  大學以上學歷且15歲以上人數      受教程度\n",
      "區域別                                                           \n",
      "新北市  3505795   12923  178495  785388          976806  0.278626\n",
      "臺北市  2304915   26006  234770  715281          976057  0.423468\n",
      "桃園市  1886448    6742   95180  422293          524215  0.277885\n",
      "臺中市  2398398   11038  125996  545708          682742  0.284666\n",
      "臺南市  1653327    7466   83353  362774          453593  0.274352\n"
     ]
    }
   ],
   "source": [
    "print(peopleInfo.head())"
   ]
  },
  {
   "cell_type": "code",
   "execution_count": 159,
   "metadata": {},
   "outputs": [],
   "source": [
    "#讀入公投14案資料\n",
    "referendum14 = pd.read_csv(\"Case_14_result.csv\")"
   ]
  },
  {
   "cell_type": "markdown",
   "metadata": {},
   "source": [
    "計算各縣市的性別友善程度\n",
    "以同意票數/不同意票數表示\n",
    "若該比率高則性別友善程度越高"
   ]
  },
  {
   "cell_type": "code",
   "execution_count": 160,
   "metadata": {},
   "outputs": [],
   "source": [
    "def genderFriendlyRatio(county):\n",
    "    County = [\"臺北市\", \"新北市\", \"桃園市\", \"臺中市\", \"臺南市\", \"高雄市\", \"基隆市\", \"新竹市\", \"嘉義市\", \"新竹縣\", \"苗栗縣\", \"彰化縣\", \n",
    "         \"南投縣\", \"雲林縣\", \"嘉義縣\", \"屏東縣\", \"宜蘭縣\", \"花蓮縣\", \"台東縣\", \"澎湖縣\", \"連江縣\", \"金門縣\"]\n",
    "    \n",
    "    global referendum14\n",
    "    \n",
    "    case = referendum14[(referendum14[\"縣市\"] == county)]\n",
    "    result = np.sum(case[\"同意票數\"])/np.sum(case[\"不同意票數\"])\n",
    "    return result"
   ]
  },
  {
   "cell_type": "code",
   "execution_count": 161,
   "metadata": {},
   "outputs": [],
   "source": [
    "peopleInfo[\"區域\"] = peopleInfo.index\n",
    "peopleInfo[\"genderfriendliness\"] = peopleInfo[\"區域\"].apply(lambda x : genderFriendlyRatio(x))"
   ]
  },
  {
   "cell_type": "code",
   "execution_count": 162,
   "metadata": {},
   "outputs": [
    {
     "data": {
      "text/html": [
       "<div>\n",
       "<style scoped>\n",
       "    .dataframe tbody tr th:only-of-type {\n",
       "        vertical-align: middle;\n",
       "    }\n",
       "\n",
       "    .dataframe tbody tr th {\n",
       "        vertical-align: top;\n",
       "    }\n",
       "\n",
       "    .dataframe thead th {\n",
       "        text-align: right;\n",
       "    }\n",
       "</style>\n",
       "<table border=\"1\" class=\"dataframe\">\n",
       "  <thead>\n",
       "    <tr style=\"text-align: right;\">\n",
       "      <th></th>\n",
       "      <th>15歲以上人數</th>\n",
       "      <th>博士畢業總計</th>\n",
       "      <th>碩士畢業總計</th>\n",
       "      <th>大學畢業總計</th>\n",
       "      <th>大學以上學歷且15歲以上人數</th>\n",
       "      <th>受教程度</th>\n",
       "      <th>區域</th>\n",
       "      <th>genderfriendliness</th>\n",
       "    </tr>\n",
       "    <tr>\n",
       "      <th>區域別</th>\n",
       "      <th></th>\n",
       "      <th></th>\n",
       "      <th></th>\n",
       "      <th></th>\n",
       "      <th></th>\n",
       "      <th></th>\n",
       "      <th></th>\n",
       "      <th></th>\n",
       "    </tr>\n",
       "  </thead>\n",
       "  <tbody>\n",
       "    <tr>\n",
       "      <th>新北市</th>\n",
       "      <td>3505795</td>\n",
       "      <td>12923</td>\n",
       "      <td>178495</td>\n",
       "      <td>785388</td>\n",
       "      <td>976806</td>\n",
       "      <td>0.278626</td>\n",
       "      <td>新北市</td>\n",
       "      <td>0.536722</td>\n",
       "    </tr>\n",
       "    <tr>\n",
       "      <th>臺北市</th>\n",
       "      <td>2304915</td>\n",
       "      <td>26006</td>\n",
       "      <td>234770</td>\n",
       "      <td>715281</td>\n",
       "      <td>976057</td>\n",
       "      <td>0.423468</td>\n",
       "      <td>臺北市</td>\n",
       "      <td>0.616302</td>\n",
       "    </tr>\n",
       "    <tr>\n",
       "      <th>桃園市</th>\n",
       "      <td>1886448</td>\n",
       "      <td>6742</td>\n",
       "      <td>95180</td>\n",
       "      <td>422293</td>\n",
       "      <td>524215</td>\n",
       "      <td>0.277885</td>\n",
       "      <td>桃園市</td>\n",
       "      <td>0.467514</td>\n",
       "    </tr>\n",
       "    <tr>\n",
       "      <th>臺中市</th>\n",
       "      <td>2398398</td>\n",
       "      <td>11038</td>\n",
       "      <td>125996</td>\n",
       "      <td>545708</td>\n",
       "      <td>682742</td>\n",
       "      <td>0.284666</td>\n",
       "      <td>臺中市</td>\n",
       "      <td>0.456328</td>\n",
       "    </tr>\n",
       "    <tr>\n",
       "      <th>臺南市</th>\n",
       "      <td>1653327</td>\n",
       "      <td>7466</td>\n",
       "      <td>83353</td>\n",
       "      <td>362774</td>\n",
       "      <td>453593</td>\n",
       "      <td>0.274352</td>\n",
       "      <td>臺南市</td>\n",
       "      <td>0.500264</td>\n",
       "    </tr>\n",
       "  </tbody>\n",
       "</table>\n",
       "</div>"
      ],
      "text/plain": [
       "     15歲以上人數  博士畢業總計  碩士畢業總計  大學畢業總計  大學以上學歷且15歲以上人數      受教程度   區域  \\\n",
       "區域別                                                                   \n",
       "新北市  3505795   12923  178495  785388          976806  0.278626  新北市   \n",
       "臺北市  2304915   26006  234770  715281          976057  0.423468  臺北市   \n",
       "桃園市  1886448    6742   95180  422293          524215  0.277885  桃園市   \n",
       "臺中市  2398398   11038  125996  545708          682742  0.284666  臺中市   \n",
       "臺南市  1653327    7466   83353  362774          453593  0.274352  臺南市   \n",
       "\n",
       "     genderfriendliness  \n",
       "區域別                      \n",
       "新北市            0.536722  \n",
       "臺北市            0.616302  \n",
       "桃園市            0.467514  \n",
       "臺中市            0.456328  \n",
       "臺南市            0.500264  "
      ]
     },
     "execution_count": 162,
     "metadata": {},
     "output_type": "execute_result"
    }
   ],
   "source": [
    "peopleInfo.head()"
   ]
  },
  {
   "cell_type": "code",
   "execution_count": 163,
   "metadata": {},
   "outputs": [],
   "source": [
    "from sklearn.linear_model import LinearRegression\n",
    "from sklearn.model_selection import train_test_split"
   ]
  },
  {
   "cell_type": "code",
   "execution_count": 164,
   "metadata": {},
   "outputs": [
    {
     "data": {
      "image/png": "[encoded data removed]",
      "text/plain": [
       "<Figure size 432x288 with 1 Axes>"
      ]
     },
     "metadata": {
      "needs_background": "light"
     },
     "output_type": "display_data"
    }
   ],
   "source": [
    "regr = LinearRegression()\n",
    "plt.scatter(peopleInfo[\"受教程度\"], peopleInfo[\"genderfriendliness\"])\n",
    "eduLevel = np.array(peopleInfo[\"受教程度\"])\n",
    "eduLevel = eduLevel.reshape(len(eduLevel), 1)\n",
    "gfLevel = np.array(peopleInfo[\"genderfriendliness\"])#gender friendliness level\n",
    "xTrain, xTest, yTrain, yTest = train_test_split(eduLevel, gfLevel, \n",
    "                                                test_size = 0.3, random_state = 5261)"
   ]
  },
  {
   "cell_type": "code",
   "execution_count": 165,
   "metadata": {},
   "outputs": [
    {
     "data": {
      "text/plain": [
       "<matplotlib.collections.PathCollection at 0x20a3d54c048>"
      ]
     },
     "execution_count": 165,
     "metadata": {},
     "output_type": "execute_result"
    },
    {
     "data": {
      "image/png": "[encoded data removed]",
      "text/plain": [
       "<Figure size 432x288 with 1 Axes>"
      ]
     },
     "metadata": {
      "needs_background": "light"
     },
     "output_type": "display_data"
    }
   ],
   "source": [
    "plt.scatter(xTrain, yTrain)"
   ]
  },
  {
   "cell_type": "code",
   "execution_count": 166,
   "metadata": {},
   "outputs": [
    {
     "data": {
      "text/plain": [
       "<matplotlib.collections.PathCollection at 0x20a3d594ef0>"
      ]
     },
     "execution_count": 166,
     "metadata": {},
     "output_type": "execute_result"
    },
    {
     "data": {
      "image/png": "[encoded data removed]",
      "text/plain": [
       "<Figure size 432x288 with 1 Axes>"
      ]
     },
     "metadata": {
      "needs_background": "light"
     },
     "output_type": "display_data"
    }
   ],
   "source": [
    "plt.scatter(xTest, yTest)"
   ]
  },
  {
   "cell_type": "code",
   "execution_count": 167,
   "metadata": {},
   "outputs": [
    {
     "data": {
      "text/plain": [
       "LinearRegression(copy_X=True, fit_intercept=True, n_jobs=None,\n",
       "         normalize=False)"
      ]
     },
     "execution_count": 167,
     "metadata": {},
     "output_type": "execute_result"
    }
   ],
   "source": [
    "regr = LinearRegression()\n",
    "regr.fit(xTrain, yTrain)"
   ]
  },
  {
   "cell_type": "code",
   "execution_count": 168,
   "metadata": {},
   "outputs": [],
   "source": [
    "predictResult = regr.predict(eduLevel)"
   ]
  },
  {
   "cell_type": "code",
   "execution_count": 169,
   "metadata": {},
   "outputs": [
    {
     "data": {
      "text/plain": [
       "[<matplotlib.lines.Line2D at 0x20a3d5c6320>]"
      ]
     },
     "execution_count": 169,
     "metadata": {},
     "output_type": "execute_result"
    },
    {
     "data": {
      "image/png": "[encoded data removed]",
      "text/plain": [
       "<Figure size 432x288 with 1 Axes>"
      ]
     },
     "metadata": {
      "needs_background": "light"
     },
     "output_type": "display_data"
    }
   ],
   "source": [
    "plt.scatter(eduLevel, gfLevel)\n",
    "plt.plot(eduLevel, predictResult, 'r')"
   ]
  },
  {
   "cell_type": "markdown",
   "metadata": {},
   "source": [
    "由此圖可看出正相關的趨勢，但因為誤差大，所以相關應較低或存在遺漏變數"
   ]
  }
 ],
 "metadata": {
  "kernelspec": {
   "display_name": "Python 3",
   "language": "python",
   "name": "python3"
  },
  "language_info": {
   "codemirror_mode": {
    "name": "ipython",
    "version": 3
   },
   "file_extension": ".py",
   "mimetype": "text/x-python",
   "name": "python",
   "nbconvert_exporter": "python",
   "pygments_lexer": "ipython3",
   "version": "3.7.1"
  }
 },
 "nbformat": 4,
 "nbformat_minor": 2
}
