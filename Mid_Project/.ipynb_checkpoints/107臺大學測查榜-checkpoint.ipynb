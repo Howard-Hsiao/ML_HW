{
 "cells": [
  {
   "cell_type": "markdown",
   "metadata": {},
   "source": [
    "## 107臺大學測查榜\n",
    "\n",
    "#### 主題發想\n",
    "    來自於高中常用的「交叉查榜網站」，當時因為有這個網站的協助，讓自己能更精準的預估自己的落點。偶然和同學閒聊時發現，這個網站似乎是台大資工系的學長在多年前念大三時寫出來的。當時覺得這位學長非常厲害，本身就讀資訊相關科系，未來希望自己也能建造一個像這樣能造福社會的程式。這一次期中Project我決定實作簡易版的查榜系統，由於108學測尚未放榜，故本網站使用資料為107學年榜單。\n",
    "\n",
    "#### 資料來源\n",
    "1. [「國立臺灣大學 107 學年度學士班個人申請入學招生考試錄取名單」:](http://reg.aca.ntu.edu.tw/107applause/acc.asp)\n"
   ]
  },
  {
   "cell_type": "markdown",
   "metadata": {},
   "source": [
    "導入re以應用regular expression"
   ]
  },
  {
   "cell_type": "code",
   "execution_count": 21,
   "metadata": {},
   "outputs": [],
   "source": [
    "#import necessary library\n",
    "import pandas as pd\n",
    "import numpy as np\n",
    "from ipywidgets import interact\n",
    "import re\n",
    "#used for regular expression"
   ]
  },
  {
   "cell_type": "markdown",
   "metadata": {},
   "source": [
    "#### 根據\"國立臺灣大學 107 學年度學士班個人申請入學招生考試錄取名單\"進行資料預處理\n",
    "    由於網路上可得的資料僅有PDF版本，我先將PDF上的文字全選複製並儲存至一txt檔以方便python讀取。接著使用大量replace及re.sub()中的雜訊清除，並處理成整齊的格式。"
   ]
  },
  {
   "cell_type": "code",
   "execution_count": 22,
   "metadata": {},
   "outputs": [],
   "source": [
    "#將資料中用來隱藏中間名的特殊字元以較易於用鍵盤打出的\"@\"取代\n",
    "privacyChar = '@'"
   ]
  },
  {
   "cell_type": "code",
   "execution_count": 23,
   "metadata": {},
   "outputs": [],
   "source": [
    "textFile = open(\"107_college_entrance.txt\", 'r', encoding = \"utf-8\")\n",
    "textFile.close\n",
    "textContent = textFile.read()\n",
    "#origin = textContent#used for convenience to debug\n",
    "\n",
    "textContent = textContent.replace(\"國立臺灣大學 107 學年度學士班個人申請入學招生考試錄取名單國立臺灣大學 107 學年度學士班個人申請入學招生考試錄取名單\\n\", \"\")\n",
    "textContent = textContent.replace(\"國立臺灣大學 107 學年度學士班個人申請入學招生考試錄取名單\\n\", \"\")\n",
    "textContent = textContent.replace(\"學系組別：\\n\", \"\")\n",
    "textContent = textContent.replace(\"報名編號\\n\", \"\")\n",
    "textContent = textContent.replace(\"姓 名 錄取別\\n\", \"\")\n",
    "textContent = textContent.replace(\" ○\", \"@\")\n",
    "textContent = textContent.replace(\"○\", \"@\")\n",
    "textContent = textContent.replace(\" \", \",\")\n",
    "textContent = re.sub(r\"(備取)第,(\\d+),名\", r\"\\1,\\2\", textContent)\n",
    "textContent = re.sub(r\"(,名)(.+系.*)(,第,\\d+,頁\\n)\", r\"\\1\\n!\\2\\n\", textContent)\n",
    "textContent = re.sub(r\"以上合計,\\d+,名\\n*\", r\"\", textContent)\n",
    "textContent = re.sub(r\"(備取,\\d+)(.*系.*),第,\\d+,頁\", r\"\\1\\n!\\2\", textContent)\n",
    "textContent = re.sub(r\"(正取)(.*系.*),第,\\d+,頁\", r\"\\1\\n!\\2\", textContent)\n",
    "textContent = re.sub(r\"(.*系)(,第,\\d*,頁)\", r\"\\1\", textContent)#針對第一排\n",
    "textContent = textContent.replace(\"正取\", \"正取,NAN\")\n",
    "textContent = re.sub(r\"\\ufeff(.*系)\", r\"!\\1\", textContent)\n",
    "\n",
    "#deal with the utf-8 編碼衝突\n",
    "textContent = textContent.replace(\"理\", \"理\")\n",
    "textContent = textContent.replace(\"緯\", \"緯\")\n",
    "textContent = textContent.replace(\"林\", \"林\")\n",
    "# print(textContent)\n",
    "\n",
    "data = textContent.splitlines()\n",
    "\n",
    "department = \"\"\n",
    "for i in range(len(data)):\n",
    "    if('!' in data[i]):\n",
    "        department = data[i][1:]\n",
    "    else:\n",
    "        data[i] = department + ',' + data[i]\n",
    "        \n",
    "textContent = \"\\n\".join(data)\n",
    "textContent = re.sub(r\"!.*\\n\", r\"\", textContent)"
   ]
  },
  {
   "cell_type": "markdown",
   "metadata": {},
   "source": [
    "將方才整理好的資料字串轉變為columns數為5的pd.DataFrame格式"
   ]
  },
  {
   "cell_type": "code",
   "execution_count": 24,
   "metadata": {},
   "outputs": [],
   "source": [
    "merit_list = re.split(r\"\\n|,\", textContent)\n",
    "merit_list = np.array(merit_list)\n",
    "merit_list = merit_list.reshape(int(len(merit_list)/5), 5)\n",
    "merit_list = pd.DataFrame(merit_list, columns=[\"系所\", \"報名編號\", \"姓名\", \"錄取別\", \"名次(用於備取)\"])\n",
    "merit_list[merit_list[\"名次(用於備取)\"] == \"NAN\"].replace(\"NAN\", np.nan, inplace = True)\n",
    "\n",
    "def func(x):\n",
    "    if(x == \"NAN\"):\n",
    "        return np.nan\n",
    "    else:\n",
    "        return x\n",
    "        #若有需要可回傳int(x)，但因為x不做數值運算，故傳回x即可\n",
    "    \n",
    "merit_list[\"名次(用於備取)\"] = merit_list[\"名次(用於備取)\"].map(func)"
   ]
  },
  {
   "cell_type": "code",
   "execution_count": 25,
   "metadata": {},
   "outputs": [
    {
     "data": {
      "text/html": [
       "<div>\n",
       "<style scoped>\n",
       "    .dataframe tbody tr th:only-of-type {\n",
       "        vertical-align: middle;\n",
       "    }\n",
       "\n",
       "    .dataframe tbody tr th {\n",
       "        vertical-align: top;\n",
       "    }\n",
       "\n",
       "    .dataframe thead th {\n",
       "        text-align: right;\n",
       "    }\n",
       "</style>\n",
       "<table border=\"1\" class=\"dataframe\">\n",
       "  <thead>\n",
       "    <tr style=\"text-align: right;\">\n",
       "      <th></th>\n",
       "      <th>系所</th>\n",
       "      <th>報名編號</th>\n",
       "      <th>姓名</th>\n",
       "      <th>錄取別</th>\n",
       "      <th>名次(用於備取)</th>\n",
       "    </tr>\n",
       "  </thead>\n",
       "  <tbody>\n",
       "    <tr>\n",
       "      <th>0</th>\n",
       "      <td>中國文學系</td>\n",
       "      <td>0700007</td>\n",
       "      <td>劉@妤</td>\n",
       "      <td>正取</td>\n",
       "      <td>NaN</td>\n",
       "    </tr>\n",
       "    <tr>\n",
       "      <th>1</th>\n",
       "      <td>中國文學系</td>\n",
       "      <td>0700034</td>\n",
       "      <td>葉@余</td>\n",
       "      <td>正取</td>\n",
       "      <td>NaN</td>\n",
       "    </tr>\n",
       "    <tr>\n",
       "      <th>2</th>\n",
       "      <td>中國文學系</td>\n",
       "      <td>0700047</td>\n",
       "      <td>朱@萱</td>\n",
       "      <td>正取</td>\n",
       "      <td>NaN</td>\n",
       "    </tr>\n",
       "    <tr>\n",
       "      <th>3</th>\n",
       "      <td>中國文學系</td>\n",
       "      <td>0700038</td>\n",
       "      <td>傅@恩</td>\n",
       "      <td>正取</td>\n",
       "      <td>NaN</td>\n",
       "    </tr>\n",
       "    <tr>\n",
       "      <th>4</th>\n",
       "      <td>中國文學系</td>\n",
       "      <td>0700043</td>\n",
       "      <td>蔡@廷</td>\n",
       "      <td>正取</td>\n",
       "      <td>NaN</td>\n",
       "    </tr>\n",
       "  </tbody>\n",
       "</table>\n",
       "</div>"
      ],
      "text/plain": [
       "      系所     報名編號   姓名 錄取別 名次(用於備取)\n",
       "0  中國文學系  0700007  劉@妤  正取      NaN\n",
       "1  中國文學系  0700034  葉@余  正取      NaN\n",
       "2  中國文學系  0700047  朱@萱  正取      NaN\n",
       "3  中國文學系  0700038  傅@恩  正取      NaN\n",
       "4  中國文學系  0700043  蔡@廷  正取      NaN"
      ]
     },
     "execution_count": 25,
     "metadata": {},
     "output_type": "execute_result"
    }
   ],
   "source": [
    "merit_list.head()"
   ]
  },
  {
   "cell_type": "code",
   "execution_count": 26,
   "metadata": {},
   "outputs": [],
   "source": [
    "def searchByName(name):\n",
    "    global merit_list\n",
    "    matchName = str()\n",
    "    if (len(name) == 2):\n",
    "        matchName = name[:1] + privacyChar\n",
    "    elif(len(name) >= 3 ):\n",
    "        matchName = name[:1] + privacyChar + name[2:]\n",
    "        \n",
    "    return merit_list[merit_list[\"姓名\"].map(lambda x:x.encode(\"utf8\") == matchName.encode(\"utf8\"))]"
   ]
  },
  {
   "cell_type": "code",
   "execution_count": 27,
   "metadata": {},
   "outputs": [],
   "source": [
    "def searchByID(ID):\n",
    "    global merit_list\n",
    "    return merit_list[merit_list[\"報名編號\"] == ID]"
   ]
  },
  {
   "cell_type": "code",
   "execution_count": 28,
   "metadata": {},
   "outputs": [],
   "source": [
    "def searchByDepartment(department):\n",
    "    global merit_list\n",
    "\n",
    "    def filter(x):\n",
    "        if x.find(department) == -1:\n",
    "            return False\n",
    "        else:\n",
    "            return True\n",
    "        \n",
    "    return merit_list[merit_list[\"系所\"].map(filter)]"
   ]
  },
  {
   "cell_type": "markdown",
   "metadata": {},
   "source": [
    "#### 查榜\n",
    "    由於中文字元編碼問題，有些輸入無法找到結果，使用報名編號查詢能完全迴避此問題"
   ]
  },
  {
   "cell_type": "code",
   "execution_count": 29,
   "metadata": {},
   "outputs": [
    {
     "name": "stdout",
     "output_type": "stream",
     "text": [
      "Search By Name:\n"
     ]
    },
    {
     "data": {
      "application/vnd.jupyter.widget-view+json": {
       "model_id": "34c72a9af8d54c03acec0800a0446280",
       "version_major": 2,
       "version_minor": 0
      },
      "text/plain": [
       "interactive(children=(Text(value='', description='name'), Output()), _dom_classes=('widget-interact',))"
      ]
     },
     "metadata": {},
     "output_type": "display_data"
    },
    {
     "name": "stdout",
     "output_type": "stream",
     "text": [
      "Search By ID:\n"
     ]
    },
    {
     "data": {
      "application/vnd.jupyter.widget-view+json": {
       "model_id": "d40da0b8bef54eeeae7df153a67faac6",
       "version_major": 2,
       "version_minor": 0
      },
      "text/plain": [
       "interactive(children=(Text(value='', description='ID'), Output()), _dom_classes=('widget-interact',))"
      ]
     },
     "metadata": {},
     "output_type": "display_data"
    },
    {
     "name": "stdout",
     "output_type": "stream",
     "text": [
      "Search By Department\n"
     ]
    },
    {
     "data": {
      "application/vnd.jupyter.widget-view+json": {
       "model_id": "702ddb287b71478791daf829ae2b4c09",
       "version_major": 2,
       "version_minor": 0
      },
      "text/plain": [
       "interactive(children=(Text(value='', description='department'), Output()), _dom_classes=('widget-interact',))"
      ]
     },
     "metadata": {},
     "output_type": "display_data"
    },
    {
     "data": {
      "text/plain": [
       "<function __main__.searchByDepartment(department)>"
      ]
     },
     "execution_count": 29,
     "metadata": {},
     "output_type": "execute_result"
    }
   ],
   "source": [
    "print(\"Search By Name:\")\n",
    "interact(searchByName, name = str())\n",
    "\n",
    "print(\"Search By ID:\")\n",
    "interact(searchByID, ID = str())\n",
    "\n",
    "print(\"Search By Department\")\n",
    "interact(searchByDepartment, department = str())"
   ]
  },
  {
   "cell_type": "markdown",
   "metadata": {},
   "source": [
    "#### 心得\n",
    "    實作這一次的Project，除了讓我對pandas和numpy的掌握更熟練，為了進行資料預處理，我也特別去學習regular expression的相關知識。這一次re套件的強大讓我大大驚豔。\n",
    "    最後能將自己從前一直嚮往的功能復刻出來，我對於自己資訊能力的進步感到非常開心。\n",
    "\n",
    "#### 未來改進方向\n",
    "    這一次的Project，我發現在資料來源中，有一些字元雖然和我從鍵盤中打出來的文字，其字形在python中完全一致，但是utf-8編碼卻並不相同。將類似的字組輸入網站(https://www.fileformat.info/index.htm)查詢後，兩個文字的確都代表同一文字，也確實擁有不同的文字編碼。這一點會造成python在判讀時將同字形的兩字原判定為不同，從而使有些輸入無法找到對應的結果。\n",
    "    這樣的問題我並未在網路上找到可行的解法，此點可成為未來改善系統的一環。"
   ]
  }
 ],
 "metadata": {
  "kernelspec": {
   "display_name": "Python 3",
   "language": "python",
   "name": "python3"
  },
  "language_info": {
   "codemirror_mode": {
    "name": "ipython",
    "version": 3
   },
   "file_extension": ".py",
   "mimetype": "text/x-python",
   "name": "python",
   "nbconvert_exporter": "python",
   "pygments_lexer": "ipython3",
   "version": "3.7.1"
  }
 },
 "nbformat": 4,
 "nbformat_minor": 2
}
