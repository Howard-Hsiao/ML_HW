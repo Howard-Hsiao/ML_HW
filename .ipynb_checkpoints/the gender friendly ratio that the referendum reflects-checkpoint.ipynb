{
 "cells": [
  {
   "cell_type": "code",
   "execution_count": 163,
   "metadata": {},
   "outputs": [],
   "source": [
    "%matplotlib inline\n",
    "\n",
    "import matplotlib.pyplot as plt\n",
    "import pandas as pd\n",
    "import numpy as np\n",
    "from ipywidgets import interact"
   ]
  },
  {
   "cell_type": "markdown",
   "metadata": {},
   "source": [
    "在此題中\n",
    "10, 11, 12案的性別友善程度為不同意票/同意票，越高越友善\n",
    "14, 15案    的性別友善程度為同意票  /不同意票，越高越友善"
   ]
  },
  {
   "cell_type": "code",
   "execution_count": 164,
   "metadata": {},
   "outputs": [],
   "source": [
    "class Referendum:\n",
    "    def __init__(self, caseNum, dataURL):\n",
    "        self.caseNum = caseNum\n",
    "        self.df = pd.read_csv(dataURL)\n",
    "        \n",
    "    def print(self):\n",
    "        print(self.df)\n",
    "    "
   ]
  },
  {
   "cell_type": "markdown",
   "metadata": {},
   "source": [
    "This part is aims to construct a new column, with this, we can observe the gender friendly ratio in smaller distinct. "
   ]
  },
  {
   "cell_type": "code",
   "execution_count": 165,
   "metadata": {},
   "outputs": [],
   "source": [
    "for vote in referendum:\n",
    "    if (vote.caseNum in [10, 11, 12]):\n",
    "        vote.df[\"性別友善比率\"] = vote.df[\"不同意票數\"]/vote.df[\"同意票數\"]\n",
    "    elif(vote.caseNum in [14, 15]):\n",
    "        vote.df[\"性別友善比率\"] = vote.df[\"不同意票數\"]/vote.df[\"同意票數\"]"
   ]
  },
  {
   "cell_type": "code",
   "execution_count": null,
   "metadata": {},
   "outputs": [],
   "source": [
    "def genderFriendlyRatio(caseNum, county):\n",
    "    County = [\"臺北市\", \"新北市\", \"桃園市\", \"臺中市\", \"臺南市\", \"高雄市\", \"基隆市\", \"新竹市\", \"嘉義市\", \"新竹縣\", \"苗栗縣\", \"彰化縣\", \n",
    "         \"南投縣\", \"雲林縣\", \"嘉義縣\", \"屏東縣\", \"宜蘭縣\", \"花蓮縣\", \"台東縣\", \"澎湖縣\", \"連江縣\", \"金門縣\"]\n",
    "    \n",
    "    if caseNum not in [10, 11, 12, 14, 15]:\n",
    "        raise ValueError\n",
    "    if county not in County:\n",
    "        raise ValueError\n",
    "    \n",
    "    Vote = {\n",
    "        10:Referendum(10, \"https://quality.data.gov.tw/dq_download_csv.php?nid=95883&md5_url=18f3fed85da65bc9a6b1ea43f860bbde\"),\n",
    "        11:Referendum(11, \"https://quality.data.gov.tw/dq_download_csv.php?nid=95883&md5_url=9b3371b0c73716b4a342bb68225fad05\"),\n",
    "        12:Referendum(12, \"https://quality.data.gov.tw/dq_download_csv.php?nid=95883&md5_url=0c7b2a3598550f05715300ca92de7d7f\"),\n",
    "        14:Referendum(14, \"https://quality.data.gov.tw/dq_download_csv.php?nid=95883&md5_url=ca20550c47744a78b1806939e8d04f5c\"),\n",
    "        15:Referendum(15, \"https://quality.data.gov.tw/dq_download_csv.php?nid=95883&md5_url=9a8029bd0e911df622de6161a80960d7\")\n",
    "    }\n",
    "    \n",
    "    case = Vote[caseNum]\n",
    "    \n",
    "    case.df = case.df[(case.df[\"縣市\"] == county)]\n",
    "    result = None\n",
    "    if caseNum in [10, 11, 12]:\n",
    "        result = np.sum(case.df[\"不同意票數\"])/np.sum(case.df[\"同意票數\"])\n",
    "    elif caseNum in [14, 15]:\n",
    "        result = np.sum(case.df[\"同意票數\"])/np.sum(case.df[\"不同意票數\"])\n",
    "\n",
    "    return result"
   ]
  },
  {
   "cell_type": "markdown",
   "metadata": {},
   "source": [
    "按完選項要等一段時間才能看到成果喔"
   ]
  },
  {
   "cell_type": "code",
   "execution_count": 168,
   "metadata": {},
   "outputs": [
    {
     "data": {
      "application/vnd.jupyter.widget-view+json": {
       "model_id": "92791ddce3b24fe0a1fddddf1087343c",
       "version_major": 2,
       "version_minor": 0
      },
      "text/plain": [
       "interactive(children=(Dropdown(description='caseNum', options=(10, 11, 12, 14, 15), value=10), Dropdown(descri…"
      ]
     },
     "metadata": {},
     "output_type": "display_data"
    },
    {
     "data": {
      "text/plain": [
       "<function __main__.genderFriendlyRatio(caseNum, county)>"
      ]
     },
     "execution_count": 168,
     "metadata": {},
     "output_type": "execute_result"
    }
   ],
   "source": [
    "County = [\"臺北市\", \"新北市\", \"桃園市\", \"臺中市\", \"臺南市\", \"高雄市\", \"基隆市\", \"新竹市\", \"嘉義市\", \"新竹縣\", \"苗栗縣\", \"彰化縣\", \n",
    "         \"南投縣\", \"雲林縣\", \"嘉義縣\", \"屏東縣\", \"宜蘭縣\", \"花蓮縣\", \"台東縣\", \"澎湖縣\", \"連江縣\", \"金門縣\"]\n",
    "interact(genderFriendlyRatio, caseNum=[10, 11, 12, 14, 15], county=County)"
   ]
  }
 ],
 "metadata": {
  "kernelspec": {
   "display_name": "Python 3",
   "language": "python",
   "name": "python3"
  },
  "language_info": {
   "codemirror_mode": {
    "name": "ipython",
    "version": 3
   },
   "file_extension": ".py",
   "mimetype": "text/x-python",
   "name": "python",
   "nbconvert_exporter": "python",
   "pygments_lexer": "ipython3",
   "version": "3.7.1"
  }
 },
 "nbformat": 4,
 "nbformat_minor": 2
}
